{
 "cells": [
  {
   "cell_type": "markdown",
   "id": "ab919113",
   "metadata": {},
   "source": [
    "# Cell phone MIP problem in parametric form\n",
    "\n",
    "This notebook shows how to model and solve the cell phone factory production MIP using a more parametric approach, i.e., a general one where data could be read from a file."
   ]
  },
  {
   "cell_type": "markdown",
   "id": "aedd867f",
   "metadata": {},
   "source": [
    "## Mobile phone factory\n",
    "\n",
    "The XYZ mobile corporation produces two models of cell phone, which we'll call M1 and M2, from a pool of components. Both M1 and M2 have the basic components (display, memory, camera, CPU), while only one model, M1, has two extras: thermal FLIR camera and satellite rx/tx.\n",
    "\n",
    "The only factory of XYZ has a limited supply of each component, and the number of components for each model is described in the following table\n",
    "\n",
    "Component|M1|M2|Availability\n",
    "---------|--|--|------------\n",
    "Display|1|2|10\n",
    "Memory|2|2|18\n",
    "Camera|1|3|12\n",
    "CPU|2|3|21\n",
    "Thermal cam.|1|0|9\n",
    "Satellite rx/tx|1|0|10\n",
    "\n",
    "The sales price for M1 is 110, and for M2 it is 130. Formulate the problem of finding how many models to produce of M1 and M2 in order to mazimize the total revenue.\n"
   ]
  },
  {
   "cell_type": "markdown",
   "id": "54577bfb",
   "metadata": {},
   "source": [
    "This problem can be modeled in a simple way. First, the main decision consists in two quantities: the number of M1 and the number of M2 to produce. We assign two variables $x_1$ and $x_2$ to these quantities.\n",
    "\n",
    "Next, the optimization model will have $110 x_1 + 130 x_2$ as objective function, which should be maximized. Finally, the constraints are given by each scarse resource (displays, memories, etc.). One constraint can be given for each resource. For instance, given that there are 10 displays in total and M1 uses one while M2 uses two, this implies the constraint\n",
    "\n",
    "$$\n",
    "x_1 + 2x_2 \\le 10\n",
    "$$\n",
    "\n",
    "And similarly for all other resources. The two variables $x_1$ and $x_2$ must obviously be nonnegative and integer. The final model can be written as follows:\n",
    "\n",
    "$$\n",
    "\\begin{array}{llll}\n",
    "\\max & 110 x_1 + 130 x_2\\\\\n",
    "\\textrm{s.t.} &   x_1 + 2 x_2 & \\le 10&\\qquad\\textrm{(display)}\\\\\n",
    "              & 2 x_1 + 2 x_2 & \\le 18&\\qquad\\textrm{(memory)}\\\\\n",
    "              &   x_1 + 3 x_2 & \\le 12&\\qquad\\textrm{(camera)}\\\\\n",
    "              & 2 x_1 + 3 x_2 & \\le 21&\\qquad\\textrm{(CPU)}\\\\\n",
    "              &   x_1         & \\le 9 &\\qquad\\textrm{(thermal camera)}\\\\\n",
    "              &   x_2         & \\le 10&\\qquad\\textrm{(sat. rx/tx)}\\\\\n",
    "              & x_1, x_2 \\in \\mathbb Z_+.\n",
    "\\end{array}\n",
    "$$"
   ]
  },
  {
   "cell_type": "markdown",
   "id": "965efb8d",
   "metadata": {},
   "source": [
    "In matricial form, one can define\n",
    "\n",
    "$$\n",
    "x = \\left(\\begin{array}{l}x_1\\\\x_2\\end{array}\\right);\\qquad\n",
    "c = \\left(\\begin{array}{r}110\\\\130\\end{array}\\right);\\qquad\n",
    "A = \\left(\\begin{array}{rr}1&2\\\\2&2\\\\1&3\\\\2&3\\\\1&0\\\\1&0\\\\\\end{array}\\right);\\qquad\n",
    "b = \\left(\\begin{array}{r}10\\\\18\\\\12\\\\21\\\\9\\\\10\\\\\\end{array}\\right),\n",
    "$$\n",
    "\n",
    "and the model can be re-written equivalently as\n",
    "\n",
    "$$\n",
    "\\begin{array}{lll}\n",
    "\\max          & c^T x\\\\\n",
    "\\textrm{s.t.} & A x \\le b\\\\\n",
    "              & x \\in \\mathbb Z_+^2\n",
    "\\end{array}\n",
    "$$\n",
    "\n",
    "We are ready to create an optimization problem using the `mip` module. We write a more general version where the data is specified separately, so that it could even be read from a file. Note that the component usage can be created as a 6x2 \"matrix\" simply by creating a list of six elements, each being a list of two. "
   ]
  },
  {
   "cell_type": "code",
   "execution_count": 1,
   "id": "e2783667",
   "metadata": {},
   "outputs": [
    {
     "name": "stdout",
     "output_type": "stream",
     "text": [
      "Requirement already satisfied: cffi==1.15.0 in /Users/alexboving/opt/anaconda3/lib/python3.9/site-packages (1.15.0)\n",
      "Requirement already satisfied: pycparser in /Users/alexboving/opt/anaconda3/lib/python3.9/site-packages (from cffi==1.15.0) (2.21)\n",
      "Requirement already satisfied: mip in /Users/alexboving/opt/anaconda3/lib/python3.9/site-packages (1.14.1)\n",
      "Requirement already satisfied: cffi==1.15.0 in /Users/alexboving/opt/anaconda3/lib/python3.9/site-packages (from mip) (1.15.0)\n",
      "Requirement already satisfied: pycparser in /Users/alexboving/opt/anaconda3/lib/python3.9/site-packages (from cffi==1.15.0->mip) (2.21)\n"
     ]
    }
   ],
   "source": [
    "# When using Colab, make sure you run this instruction beforehand\n",
    "!pip install --upgrade cffi==1.15.0\n",
    "import importlib\n",
    "import cffi\n",
    "importlib.reload(cffi)\n",
    "!pip install mip"
   ]
  },
  {
   "cell_type": "code",
   "execution_count": 16,
   "id": "d59f6107",
   "metadata": {},
   "outputs": [
    {
     "name": "stdout",
     "output_type": "stream",
     "text": [
      "2\n"
     ]
    }
   ],
   "source": [
    "import mip\n",
    "\n",
    "n_model = 2 # Number of variables. \n",
    "n_component = 6 # Number of constraints.\n",
    "\n",
    "c = [110, 130]\n",
    "\n",
    "A = [[1,2],\n",
    "     [2,2],\n",
    "     [1,3],\n",
    "     [2,3],\n",
    "     [1,0],\n",
    "     [1,0]]# Complete (TODO)\n",
    "\n",
    "b = [10,18,12,21,9,10]"
   ]
  },
  {
   "cell_type": "markdown",
   "id": "12b0156a",
   "metadata": {},
   "source": [
    "Now we create an empty model and add the two integer variables $[x_1,x_2]$."
   ]
  },
  {
   "cell_type": "code",
   "execution_count": 25,
   "id": "56a4c1a9",
   "metadata": {},
   "outputs": [],
   "source": [
    "m = mip.Model()\n",
    "# Instantiate x variables (TODO)\n",
    "x = [m.add_var(var_type=mip.INTEGER) for i in range(n_model)]\n"
   ]
  },
  {
   "cell_type": "markdown",
   "id": "dbe45631",
   "metadata": {},
   "source": [
    "Let's write the objective function: in the general case, it can be written as a sum over the set of models."
   ]
  },
  {
   "cell_type": "code",
   "execution_count": 26,
   "id": "10e6dfaf",
   "metadata": {},
   "outputs": [],
   "source": [
    "m.objective = mip.maximize(110*x[0] + 130*x[1])"
   ]
  },
  {
   "cell_type": "markdown",
   "id": "6bb56c88",
   "metadata": {},
   "source": [
    "The constraints can be generated in a loop:"
   ]
  },
  {
   "cell_type": "code",
   "execution_count": 27,
   "id": "057865a6",
   "metadata": {},
   "outputs": [],
   "source": [
    "for j in range(n_component):\n",
    "    m.add_constr(mip.xsum([A[j][i]*x[i] for i in range(n_model)]) <= b[j])  # Complete in the \"...\" (TODO)"
   ]
  },
  {
   "cell_type": "markdown",
   "id": "54959656",
   "metadata": {},
   "source": [
    "The model is complete. Let's solve it and print the optimal solution."
   ]
  },
  {
   "cell_type": "code",
   "execution_count": 28,
   "id": "14dbf2db",
   "metadata": {},
   "outputs": [
    {
     "name": "stdout",
     "output_type": "stream",
     "text": [
      "Clp0002I Dual infeasible - objective value -0\n",
      "Clp0032I DualInfeasible objective -0 - 0 iterations time 0.002, Idiot 0.00\n",
      "Starting solution of the Linear programming relaxation problem using Primal Simplex\n",
      "\n",
      "Clp0024I Matrix will be packed to eliminate 2 small elements\n",
      "Coin0506I Presolve 4 (-2) rows, 2 (0) columns and 8 (-2) elements\n",
      "Clp1000I sum of infeasibilities 0 - average 0, 0 fixed columns\n",
      "Coin0506I Presolve 4 (0) rows, 2 (0) columns and 8 (0) elements\n",
      "Clp0006I 0  Obj 1010 Dual inf 24000 (2)\n",
      "Clp0029I End of values pass after 2 iterations\n",
      "Clp0000I Optimal - objective value 1010\n",
      "Clp0000I Optimal - objective value 1010\n",
      "Clp0000I Optimal - objective value 1010\n",
      "Coin0511I After Postsolve, objective 1010, infeasibilities - dual 0 (0), primal 0 (0)\n",
      "Clp0032I Optimal objective 1010 - 0 iterations time 0.002, Presolve 0.00, Idiot 0.00\n",
      "\n",
      "Starting MIP optimization\n",
      "[8.0, 1.0]\n",
      "1010.0\n",
      "OptimizationStatus.OPTIMAL\n"
     ]
    }
   ],
   "source": [
    "status = m.optimize()\n",
    "\n",
    "# Print the value (.x) of each variable\n",
    "print([x[i].x for i in range(n_model)])\n",
    "# Print the objective function value\n",
    "print(f\"The price is : {m.objective_value} €)\n",
    "print(status)"
   ]
  },
  {
   "cell_type": "code",
   "execution_count": null,
   "id": "ba8f96fc",
   "metadata": {},
   "outputs": [],
   "source": []
  }
 ],
 "metadata": {
  "kernelspec": {
   "display_name": "Python 3 (ipykernel)",
   "language": "python",
   "name": "python3"
  },
  "language_info": {
   "codemirror_mode": {
    "name": "ipython",
    "version": 3
   },
   "file_extension": ".py",
   "mimetype": "text/x-python",
   "name": "python",
   "nbconvert_exporter": "python",
   "pygments_lexer": "ipython3",
   "version": "3.9.13"
  }
 },
 "nbformat": 4,
 "nbformat_minor": 5
}
