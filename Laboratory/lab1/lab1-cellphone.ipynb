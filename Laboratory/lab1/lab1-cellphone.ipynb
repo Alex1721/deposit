{
 "cells": [
  {
   "cell_type": "markdown",
   "id": "f2c8a83e",
   "metadata": {},
   "source": [
    "# MIP examples: the cell phone factory\n",
    "\n",
    "In this session, we'll try to model and solve a problem of production planning at a mobile phone factory."
   ]
  },
  {
   "cell_type": "markdown",
   "id": "c82e4c70",
   "metadata": {},
   "source": [
    "## Mobile phone factory\n",
    "\n",
    "The XYZ mobile corporation produces two models of cell phone, which we'll call M1 and M2, from a pool of components. Both M1 and M2 have the basic components (display, memory, camera, CPU), while only one model, M1, has two extras: thermal FLIR camera and satellite rx/tx.\n",
    "\n",
    "The only factory of XYZ has a limited supply of each component, and the number of components for each model is described in the following table:\n",
    "\n",
    "Component|M1|M2|Availability\n",
    "-|-|-|-\n",
    "Display|1|2|10\n",
    "Memory|2|2|18\n",
    "Camera|1|3|12\n",
    "CPU|2|3|21\n",
    "Thermal cam.|1|0|9\n",
    "Satellite rx/tx|1|0|10\n",
    "\n",
    "The sales price for M1 is 110, and for M2 it is 130. Formulate the problem of finding how many models to produce of M1 and M2 in order to mazimize the total revenue.\n"
   ]
  },
  {
   "cell_type": "markdown",
   "id": "4020d68b",
   "metadata": {},
   "source": [
    "This problem can be modeled in a simple way. First, the main decision consists in two quantities: the number of M1 and the number of M2 to produce. We assign two variables $x_1$ and $x_2$ to these quantities.\n",
    "\n",
    "Next, the optimization model will have $110 x_1 + 130 x_2$ as objective function, which should be maximized. Finally, the constraints are given by each scarse resource (displays, memories, etc.). One constraint can be given for each resource. For instance, given that there are 10 displays in total and M1 uses one while M2 uses two, this implies the constraint\n",
    "\n",
    "$$\n",
    "x_1 + 2x_2 \\le 10\n",
    "$$\n",
    "\n",
    "And similarly for all other resources. The two variables $x_1$ and $x_2$ must obviously be nonnegative and integer. The final model can be written as follows:\n",
    "\n",
    "$$\n",
    "\\begin{array}{llll}\n",
    "\\max & 110 x_1 + 130 x_2\\\\\n",
    "\\textrm{s.t.} &   x_1 + 2 x_2 & \\le 10&\\qquad\\textrm{(display)}\\\\\n",
    "              & 2 x_1 + 2 x_2 & \\le 18&\\qquad\\textrm{(memory)}\\\\\n",
    "              &   x_1 + 3 x_2 & \\le 12&\\qquad\\textrm{(camera)}\\\\\n",
    "              & 2 x_1 + 3 x_2 & \\le 21&\\qquad\\textrm{(CPU)}\\\\\n",
    "              &   x_1         & \\le 9 &\\qquad\\textrm{(thermal camera)}\\\\\n",
    "              &   x_2         & \\le 10&\\qquad\\textrm{(sat. rx/tx)}\\\\\n",
    "              & x_1, x_2 \\in \\mathbb Z_+.\n",
    "\\end{array}\n",
    "$$"
   ]
  },
  {
   "cell_type": "code",
   "execution_count": 1,
   "id": "f2233f16",
   "metadata": {},
   "outputs": [
    {
     "name": "stdout",
     "output_type": "stream",
     "text": [
      "Requirement already satisfied: cffi==1.15.0 in /Users/alexboving/opt/anaconda3/lib/python3.9/site-packages (1.15.0)\n",
      "Requirement already satisfied: pycparser in /Users/alexboving/opt/anaconda3/lib/python3.9/site-packages (from cffi==1.15.0) (2.21)\n",
      "Requirement already satisfied: mip in /Users/alexboving/opt/anaconda3/lib/python3.9/site-packages (1.14.1)\n",
      "Requirement already satisfied: cffi==1.15.0 in /Users/alexboving/opt/anaconda3/lib/python3.9/site-packages (from mip) (1.15.0)\n",
      "Requirement already satisfied: pycparser in /Users/alexboving/opt/anaconda3/lib/python3.9/site-packages (from cffi==1.15.0->mip) (2.21)\n"
     ]
    }
   ],
   "source": [
    "# When using Colab, make sure you run this instruction beforehand\n",
    "!pip install --upgrade cffi==1.15.0\n",
    "import importlib\n",
    "import cffi\n",
    "importlib.reload(cffi)\n",
    "!pip install mip"
   ]
  },
  {
   "cell_type": "code",
   "execution_count": 5,
   "id": "8b5b0fc8",
   "metadata": {},
   "outputs": [
    {
     "name": "stdout",
     "output_type": "stream",
     "text": [
      "Cgl0004I processed model has 4 rows, 2 columns (2 integer (0 of which binary)) and 8 elements\n",
      "Coin3009W Conflict graph built in 0.000 seconds, density: 0.000%\n",
      "Cgl0015I Clique Strengthening extended 0 cliques, 0 were dominated\n",
      "Cbc0012I Integer solution of -1010 found by DiveCoefficient after 0 iterations and 0 nodes (0.00 seconds)\n",
      "Cbc0001I Search completed - best objective -1010, took 0 iterations and 0 nodes (0.00 seconds)\n",
      "Cbc0035I Maximum depth 0, 0 variables fixed on reduced cost\n",
      "Total time (CPU seconds):       0.00   (Wallclock seconds):       0.00\n",
      "\n",
      "Starting solution of the Linear programming relaxation problem using Primal Simplex\n",
      "\n",
      "Coin0506I Presolve 4 (-2) rows, 2 (0) columns and 8 (-2) elements\n",
      "Clp1000I sum of infeasibilities 0 - average 0, 0 fixed columns\n",
      "Coin0506I Presolve 4 (0) rows, 2 (0) columns and 8 (0) elements\n",
      "Clp0006I 0  Obj 1010 Dual inf 24000 (2)\n",
      "Clp0029I End of values pass after 2 iterations\n",
      "Clp0000I Optimal - objective value 1010\n",
      "Clp0000I Optimal - objective value 1010\n",
      "Clp0000I Optimal - objective value 1010\n",
      "Coin0511I After Postsolve, objective 1010, infeasibilities - dual 0 (0), primal 0 (0)\n",
      "Clp0032I Optimal objective 1010 - 0 iterations time 0.002, Presolve 0.00, Idiot 0.00\n",
      "\n",
      "Starting MIP optimization\n",
      "8.0 1.0\n",
      "1010.0\n",
      "OptimizationStatus.OPTIMAL\n"
     ]
    }
   ],
   "source": [
    "# Fill in the incomplete instructions\n",
    "\n",
    "import mip\n",
    "\n",
    "m = mip.Model()\n",
    "\n",
    "x1 = m.add_var(var_type=mip.INTEGER)\n",
    "# Define x2 similarly (TODO)\n",
    "x2 = m.add_var(var_type=mip.INTEGER)\n",
    "# The fact we never specified that x1 and x2 belong to Z+\n",
    "# is because in mip it is implicit. We can find the lower and upper\n",
    "# bound of the variable with lb. look up to the documentaries.\n",
    "\n",
    "# Fill in the objective function (TODO)\n",
    "m.objective = mip.maximize(110*x1 + 130*x2)\n",
    "\n",
    "m.add_constr(  x1 + 2*x2 <= 10)\n",
    "m.add_constr(2*x1 + 2*x2 <= 18)\n",
    "\n",
    "# Now add the four missing constraints (TODO)\n",
    "m.add_constr(x1 + 3*x2 <= 12)\n",
    "m.add_constr(2*x1 + 3*x2 <= 21)\n",
    "m.add_constr(x1 <= 9)\n",
    "m.add_constr(x2 <= 10)\n",
    "\n",
    "status = m.optimize()\n",
    "\n",
    "print(x1.x, x2.x)\n",
    "print(m.objective_value)\n",
    "print(status)"
   ]
  },
  {
   "cell_type": "code",
   "execution_count": null,
   "id": "b352577f",
   "metadata": {},
   "outputs": [],
   "source": []
  }
 ],
 "metadata": {
  "kernelspec": {
   "display_name": "Python 3 (ipykernel)",
   "language": "python",
   "name": "python3"
  },
  "language_info": {
   "codemirror_mode": {
    "name": "ipython",
    "version": 3
   },
   "file_extension": ".py",
   "mimetype": "text/x-python",
   "name": "python",
   "nbconvert_exporter": "python",
   "pygments_lexer": "ipython3",
   "version": "3.9.13"
  }
 },
 "nbformat": 4,
 "nbformat_minor": 5
}
